{
 "cells": [
  {
   "cell_type": "markdown",
   "id": "249ce481",
   "metadata": {},
   "source": [
    "# The Sparks Foundation - Data Science and Business Analytics Internship\n",
    "\n",
    "\n",
    "# Task 1 - Prediction Using Supervised Machine Learning\n",
    "\n",
    "## By Joel Ayappa\n",
    "\n",
    "Aim - To predict the percentage of a student on the basis of the number of hours studied using the Linear Regression Supervised Machine Learning Algorithm.\n",
    "\n",
    "Dataset: http://bit.ly/w-data"
   ]
  },
  {
   "cell_type": "markdown",
   "id": "556c3794",
   "metadata": {},
   "source": [
    "## **Importing the Dataset**\n",
    "\n",
    "Here we import the dataset through the link with the help of pandas library and then observe the data."
   ]
  },
  {
   "cell_type": "code",
   "execution_count": null,
   "id": "477286dc",
   "metadata": {},
   "outputs": [],
   "source": [
    "# Importing all libraries required in this notebook\n",
    "\n",
    "import pandas as pd\n",
    "import numpy as np  \n",
    "import matplotlib.pyplot as plt  \n",
    "import seaborn as sns\n",
    "%matplotlib inline"
   ]
  },
  {
   "cell_type": "code",
   "execution_count": null,
   "id": "440cf097",
   "metadata": {
    "scrolled": true
   },
   "outputs": [],
   "source": [
    "# Reading data from remote link\n",
    "\n",
    "url = \"https://raw.githubusercontent.com/AdiPersonalWorks/Random/master/student_scores%20-%20student_scores.csv\"\n",
    "s_data = pd.read_csv(url)\n",
    "print(\"Data imported successfully\")\n",
    "\n",
    "s_data.head(10)"
   ]
  },
  {
   "cell_type": "code",
   "execution_count": null,
   "id": "84787295",
   "metadata": {},
   "outputs": [],
   "source": [
    "# To check the columns of the dataset\n",
    "s_data.columns"
   ]
  },
  {
   "cell_type": "code",
   "execution_count": null,
   "id": "20e377b3",
   "metadata": {},
   "outputs": [],
   "source": [
    "# To find the number of columns and rows\n",
    "s_data.shape"
   ]
  },
  {
   "cell_type": "code",
   "execution_count": null,
   "id": "228669a9",
   "metadata": {},
   "outputs": [],
   "source": [
    "# To get information about the dataset\n",
    "s_data.info()"
   ]
  },
  {
   "cell_type": "code",
   "execution_count": null,
   "id": "7029dd0b",
   "metadata": {},
   "outputs": [],
   "source": [
    "# To view some basic statistical details \n",
    "s_data.describe()"
   ]
  },
  {
   "cell_type": "code",
   "execution_count": null,
   "id": "ca928906",
   "metadata": {},
   "outputs": [],
   "source": [
    "# Check if our dataset contains null or missing values\n",
    "s_data.isnull().sum()"
   ]
  },
  {
   "cell_type": "markdown",
   "id": "c517e2f8",
   "metadata": {},
   "source": [
    "## **Visualizing the Dataset**\n",
    "\n",
    "Here we plot the dataset to fetch relation between the two variables"
   ]
  },
  {
   "cell_type": "code",
   "execution_count": null,
   "id": "726a0ef8",
   "metadata": {},
   "outputs": [],
   "source": [
    "# Plotting the distribution of scores\n",
    "sns.set_style('darkgrid')\n",
    "plt.rcParams[\"figure.figsize\"]= 9,6\n",
    "plt.rc('font', size=12)\n",
    "s_data.plot(x='Hours', y='Scores', style='o')  \n",
    "plt.title('Hours vs Percentage')  \n",
    "plt.xlabel('Hours Studied')  \n",
    "plt.ylabel('Percentage Score')  \n",
    "plt.show()"
   ]
  },
  {
   "cell_type": "markdown",
   "id": "d536da0d",
   "metadata": {},
   "source": [
    "**From the above graph, we can observe that there is a linear relationship between \"hours studied\" and \"percentage score\". So we can now use the linear regression supervised machine model on it to predict further values.**"
   ]
  },
  {
   "cell_type": "markdown",
   "id": "e85728e4",
   "metadata": {},
   "source": [
    "## **Preparing the Data**\n",
    "\n",
    "Here we divide independent variable(input) as attributes('hours') and dependent variable(outpiut) as labels('score')"
   ]
  },
  {
   "cell_type": "code",
   "execution_count": null,
   "id": "944c082c",
   "metadata": {},
   "outputs": [],
   "source": [
    "X = s_data.iloc[:, :-1].values\n",
    "y = s_data.iloc[:, 1].values"
   ]
  },
  {
   "cell_type": "code",
   "execution_count": null,
   "id": "8d3cb737",
   "metadata": {},
   "outputs": [],
   "source": [
    "X"
   ]
  },
  {
   "cell_type": "code",
   "execution_count": null,
   "id": "f06ccbc1",
   "metadata": {},
   "outputs": [],
   "source": [
    "y"
   ]
  },
  {
   "cell_type": "markdown",
   "id": "f878d407",
   "metadata": {},
   "source": [
    "## **Training the Model**\n",
    "\n",
    "Here we split the whole dataset into 2 parts - Testing Data and Training Data and further train our Model."
   ]
  },
  {
   "cell_type": "code",
   "execution_count": null,
   "id": "493c0dae",
   "metadata": {},
   "outputs": [],
   "source": [
    "# Splitting into testing data and training data\n",
    "from sklearn.model_selection import train_test_split  \n",
    "X_train, X_test, y_train, y_test = train_test_split(X, y, \n",
    "                            test_size=0.2, random_state=0) "
   ]
  },
  {
   "cell_type": "code",
   "execution_count": null,
   "id": "0a020836",
   "metadata": {},
   "outputs": [],
   "source": [
    "from sklearn.linear_model import LinearRegression  \n",
    "regressor = LinearRegression()  \n",
    "regressor.fit(X_train, y_train) \n",
    "\n",
    "print(\"Training complete.\")"
   ]
  },
  {
   "cell_type": "markdown",
   "id": "2e0de2b4",
   "metadata": {},
   "source": [
    "## **Visualizing the Model**\n",
    "\n",
    "Here we visualize our trained model"
   ]
  },
  {
   "cell_type": "code",
   "execution_count": null,
   "id": "cca6524c",
   "metadata": {},
   "outputs": [],
   "source": [
    "# Plotting the regression line\n",
    "line = regressor.coef_*X+regressor.intercept_\n",
    "\n",
    "# Plotting for the test data\n",
    "sns.set_style('darkgrid')\n",
    "plt.rcParams[\"figure.figsize\"]= 9,6\n",
    "plt.rc('font', size=12)\n",
    "plt.scatter(X, y)\n",
    "plt.plot(X, line, color=\"black\");\n",
    "plt.xlabel('Hours Studied')\n",
    "plt.ylabel('Percentage Score')\n",
    "plt.show()"
   ]
  },
  {
   "cell_type": "markdown",
   "id": "0890a361",
   "metadata": {},
   "source": [
    "## **Making Predictions**\n",
    "\n",
    "Here we make the required predictions using our trained model "
   ]
  },
  {
   "cell_type": "code",
   "execution_count": null,
   "id": "84a4b845",
   "metadata": {},
   "outputs": [],
   "source": [
    "# Testing data - In Hours\n",
    "print(X_test) \n",
    "\n",
    "# Predicting the scores\n",
    "y_pred = regressor.predict(X_test) "
   ]
  },
  {
   "cell_type": "code",
   "execution_count": null,
   "id": "597ac41c",
   "metadata": {},
   "outputs": [],
   "source": [
    "# Testing data - In Hours\n",
    "print(X_test) \n",
    "\n",
    "# Predicting the scores\n",
    "y_pred = regressor.predict(X_test) "
   ]
  },
  {
   "cell_type": "code",
   "execution_count": null,
   "id": "a515efa0",
   "metadata": {},
   "outputs": [],
   "source": [
    "# Comparing Actual vs Predicted\n",
    "df = pd.DataFrame({'Actual': y_test, 'Predicted': y_pred})  \n",
    "df "
   ]
  },
  {
   "cell_type": "code",
   "execution_count": null,
   "id": "e9db7fd0",
   "metadata": {},
   "outputs": [],
   "source": [
    "# Estimating the Training Data and Test Data Score\n",
    "print(\"Training score:\", regressor.score(X_train, y_train))\n",
    "print(\"Testing score:\", regressor.score(X_test, y_test))"
   ]
  },
  {
   "cell_type": "code",
   "execution_count": null,
   "id": "7ba977b6",
   "metadata": {},
   "outputs": [],
   "source": [
    "# Testing the model with our own data\n",
    "hours = 9.25\n",
    "own_pred = regressor.predict([[hours]])\n",
    "print(\"No of Hours = {}\".format(hours))\n",
    "print(\"Predicted Score = {}\".format(own_pred[0]))\n",
    "print(\"The predicted score of a person who studies for\",hours,\"hours is\",own_pred[0])"
   ]
  },
  {
   "cell_type": "markdown",
   "id": "b6715526",
   "metadata": {},
   "source": [
    "**Conclusion - The predicted score if a person studies for 9.25 hours is 93.69173248737535**"
   ]
  },
  {
   "cell_type": "markdown",
   "id": "86c44239",
   "metadata": {},
   "source": [
    "## **Evalating the Model**\n",
    "\n",
    "Here we evaluate our trained model by finding the accuracy and calculating mean absolute error."
   ]
  },
  {
   "cell_type": "code",
   "execution_count": null,
   "id": "312fc3c4",
   "metadata": {},
   "outputs": [],
   "source": [
    "# Finding the accuracy\n",
    "from sklearn import metrics\n",
    "metrics.r2_score(y_test,y_pred)"
   ]
  },
  {
   "cell_type": "code",
   "execution_count": null,
   "id": "9a60617d",
   "metadata": {},
   "outputs": [],
   "source": [
    "# Calculating mean absolute error\n",
    "print('Mean Absolute Error:', metrics.mean_absolute_error(y_test, y_pred))"
   ]
  },
  {
   "cell_type": "markdown",
   "id": "8a08d8cc",
   "metadata": {},
   "source": [
    "**High accuracy value and a small value of mean absolute error concludes that the above model is a good model** "
   ]
  }
 ],
 "metadata": {
  "kernelspec": {
   "display_name": "Python 3 (ipykernel)",
   "language": "python",
   "name": "python3"
  },
  "language_info": {
   "codemirror_mode": {
    "name": "ipython",
    "version": 3
   },
   "file_extension": ".py",
   "mimetype": "text/x-python",
   "name": "python",
   "nbconvert_exporter": "python",
   "pygments_lexer": "ipython3",
   "version": "3.9.1"
  }
 },
 "nbformat": 4,
 "nbformat_minor": 5
}
